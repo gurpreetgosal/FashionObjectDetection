{
  "nbformat": 4,
  "nbformat_minor": 0,
  "metadata": {
    "colab": {
      "name": "model_builder.ipynb",
      "version": "0.3.2",
      "provenance": []
    },
    "kernelspec": {
      "name": "python3",
      "display_name": "Python 3"
    },
    "accelerator": "GPU"
  },
  "cells": [
    {
      "metadata": {
        "id": "Jt59Sz3QHP8u",
        "colab_type": "code",
        "colab": {
          "base_uri": "https://localhost:8080/",
          "height": 51
        },
        "outputId": "6bdd988c-c187-484f-fabb-89f87a5b3c33"
      },
      "cell_type": "code",
      "source": [
        "%pylab inline\n",
        "import os\n",
        "import keras\n",
        "import numpy as np\n",
        "import pandas as pd\n",
        "import keras.backend as K\n",
        "\n",
        "from time import time\n",
        "from sklearn.cluster import KMeans\n",
        "from keras import callbacks\n",
        "from keras.models import Model\n",
        "from keras.optimizers import SGD\n",
        "from keras.layers import Dense, Input\n",
        "from keras.initializers import VarianceScaling\n",
        "from keras.engine.topology import Layer, InputSpec\n",
        "\n",
        "from scipy.misc import imread\n",
        "from sklearn.metrics import accuracy_score, normalized_mutual_info_score"
      ],
      "execution_count": 2,
      "outputs": [
        {
          "output_type": "stream",
          "text": [
            "Populating the interactive namespace from numpy and matplotlib\n"
          ],
          "name": "stdout"
        },
        {
          "output_type": "stream",
          "text": [
            "Using TensorFlow backend.\n"
          ],
          "name": "stderr"
        }
      ]
    },
    {
      "metadata": {
        "id": "gpf3XhdiHP9A",
        "colab_type": "code",
        "colab": {}
      },
      "cell_type": "code",
      "source": [
        "import tensorflow as tf\n",
        "device_name = tf.test.gpu_device_name()\n",
        "if device_name != '/device:GPU:0':\n",
        "  raise SystemError('GPU device not found')\n",
        "#print('Found GPU at: {}'.format(device_name))\n",
        "\n",
        "from tensorflow.python.client import device_lib\n",
        "#print(device_lib.list_local_devices())"
      ],
      "execution_count": 0,
      "outputs": []
    },
    {
      "metadata": {
        "id": "dhtIFqiYHTgt",
        "colab_type": "code",
        "colab": {
          "base_uri": "https://localhost:8080/",
          "height": 34
        },
        "outputId": "f4ea9bae-0b53-4d50-de52-cc3da7cb5b95"
      },
      "cell_type": "code",
      "source": [
        "# get data\n",
        "from keras.datasets import fashion_mnist\n",
        "(train_x, train_y), (val_x, val_y) = fashion_mnist.load_data()\n",
        "train_x.shape"
      ],
      "execution_count": 28,
      "outputs": [
        {
          "output_type": "execute_result",
          "data": {
            "text/plain": [
              "(60000, 28, 28)"
            ]
          },
          "metadata": {
            "tags": []
          },
          "execution_count": 28
        }
      ]
    },
    {
      "metadata": {
        "id": "WoLe5LUkIiZO",
        "colab_type": "code",
        "colab": {}
      },
      "cell_type": "code",
      "source": [
        "train_x = train_x/255.\n",
        "val_x = val_x/255.\n",
        "\n",
        "train_x = train_x.reshape(-1, 784)\n",
        "val_x = val_x.reshape(-1, 784)"
      ],
      "execution_count": 0,
      "outputs": []
    },
    {
      "metadata": {
        "id": "br9phJg5JPIj",
        "colab_type": "code",
        "colab": {}
      },
      "cell_type": "code",
      "source": [
        "# define autoencoder\n",
        "# this is our input placeholder\n",
        "input_img = Input(shape=(784,))\n",
        "\n",
        "# \"encoded\" is the encoded representation of the input\n",
        "encoded = Dense(2000, activation='relu')(input_img)\n",
        "encoded = Dense(500, activation='relu')(encoded)\n",
        "encoded = Dense(500, activation='relu')(encoded)\n",
        "encoded = Dense(10, activation='sigmoid')(encoded)\n",
        "\n",
        "# \"decoded\" is the lossy reconstruction of the input\n",
        "decoded = Dense(500, activation='relu')(encoded)\n",
        "decoded = Dense(500, activation='relu')(decoded)\n",
        "decoded = Dense(2000, activation='relu')(decoded)\n",
        "decoded = Dense(784)(decoded)\n",
        "\n",
        "# this model maps an input to its reconstruction\n",
        "autoencoder = Model(input_img, decoded)"
      ],
      "execution_count": 0,
      "outputs": []
    },
    {
      "metadata": {
        "id": "ViBMoNcPJQLw",
        "colab_type": "code",
        "colab": {
          "base_uri": "https://localhost:8080/",
          "height": 442
        },
        "outputId": "cc45d0a9-f7e0-433d-dec2-9e802d7528fc"
      },
      "cell_type": "code",
      "source": [
        "autoencoder.summary()"
      ],
      "execution_count": 47,
      "outputs": [
        {
          "output_type": "stream",
          "text": [
            "_________________________________________________________________\n",
            "Layer (type)                 Output Shape              Param #   \n",
            "=================================================================\n",
            "input_3 (InputLayer)         (None, 784)               0         \n",
            "_________________________________________________________________\n",
            "dense_17 (Dense)             (None, 2000)              1570000   \n",
            "_________________________________________________________________\n",
            "dense_18 (Dense)             (None, 500)               1000500   \n",
            "_________________________________________________________________\n",
            "dense_19 (Dense)             (None, 500)               250500    \n",
            "_________________________________________________________________\n",
            "dense_20 (Dense)             (None, 10)                5010      \n",
            "_________________________________________________________________\n",
            "dense_21 (Dense)             (None, 500)               5500      \n",
            "_________________________________________________________________\n",
            "dense_22 (Dense)             (None, 500)               250500    \n",
            "_________________________________________________________________\n",
            "dense_23 (Dense)             (None, 2000)              1002000   \n",
            "_________________________________________________________________\n",
            "dense_24 (Dense)             (None, 784)               1568784   \n",
            "=================================================================\n",
            "Total params: 5,652,794\n",
            "Trainable params: 5,652,794\n",
            "Non-trainable params: 0\n",
            "_________________________________________________________________\n"
          ],
          "name": "stdout"
        }
      ]
    },
    {
      "metadata": {
        "id": "2Nws-jgTNGM0",
        "colab_type": "code",
        "colab": {}
      },
      "cell_type": "code",
      "source": [
        "# run the autoencoder\n",
        "encoder = Model(input_img, encoded)\n",
        "autoencoder.compile(optimizer='adam', loss='mse')\n",
        "estop = keras.callbacks.EarlyStopping(monitor='val_loss', min_delta=0, patience=10, verbose=1, mode='auto')"
      ],
      "execution_count": 0,
      "outputs": []
    },
    {
      "metadata": {
        "id": "SI4eV0kRNL4L",
        "colab_type": "code",
        "colab": {
          "base_uri": "https://localhost:8080/",
          "height": 6681
        },
        "outputId": "4d9f9e6b-3aec-4262-978b-9ec6dcda0c58"
      },
      "cell_type": "code",
      "source": [
        "train_history = autoencoder.fit(train_x, train_x, epochs=500, batch_size=2048, validation_data=(val_x, val_x), callbacks=[estop])"
      ],
      "execution_count": 49,
      "outputs": [
        {
          "output_type": "stream",
          "text": [
            "Train on 60000 samples, validate on 10000 samples\n",
            "Epoch 1/500\n",
            "60000/60000 [==============================] - 3s 58us/step - loss: 0.0910 - val_loss: 0.0667\n",
            "Epoch 2/500\n",
            "60000/60000 [==============================] - 2s 33us/step - loss: 0.0525 - val_loss: 0.0433\n",
            "Epoch 3/500\n",
            "60000/60000 [==============================] - 2s 33us/step - loss: 0.0404 - val_loss: 0.0369\n",
            "Epoch 4/500\n",
            "60000/60000 [==============================] - 2s 33us/step - loss: 0.0350 - val_loss: 0.0323\n",
            "Epoch 5/500\n",
            "60000/60000 [==============================] - 2s 33us/step - loss: 0.0321 - val_loss: 0.0292\n",
            "Epoch 6/500\n",
            "60000/60000 [==============================] - 2s 33us/step - loss: 0.0278 - val_loss: 0.0263\n",
            "Epoch 7/500\n",
            "60000/60000 [==============================] - 2s 33us/step - loss: 0.0255 - val_loss: 0.0246\n",
            "Epoch 8/500\n",
            "60000/60000 [==============================] - 2s 33us/step - loss: 0.0244 - val_loss: 0.0236\n",
            "Epoch 9/500\n",
            "60000/60000 [==============================] - 2s 33us/step - loss: 0.0231 - val_loss: 0.0227\n",
            "Epoch 10/500\n",
            "60000/60000 [==============================] - 2s 33us/step - loss: 0.0218 - val_loss: 0.0213\n",
            "Epoch 11/500\n",
            "60000/60000 [==============================] - 2s 33us/step - loss: 0.0212 - val_loss: 0.0205\n",
            "Epoch 12/500\n",
            "60000/60000 [==============================] - 2s 33us/step - loss: 0.0201 - val_loss: 0.0199\n",
            "Epoch 13/500\n",
            "60000/60000 [==============================] - 2s 32us/step - loss: 0.0197 - val_loss: 0.0194\n",
            "Epoch 14/500\n",
            "60000/60000 [==============================] - 2s 33us/step - loss: 0.0192 - val_loss: 0.0189\n",
            "Epoch 15/500\n",
            "60000/60000 [==============================] - 2s 33us/step - loss: 0.0189 - val_loss: 0.0184\n",
            "Epoch 16/500\n",
            "60000/60000 [==============================] - 2s 33us/step - loss: 0.0182 - val_loss: 0.0181\n",
            "Epoch 17/500\n",
            "60000/60000 [==============================] - 2s 33us/step - loss: 0.0183 - val_loss: 0.0180\n",
            "Epoch 18/500\n",
            "60000/60000 [==============================] - 2s 33us/step - loss: 0.0175 - val_loss: 0.0173\n",
            "Epoch 19/500\n",
            "60000/60000 [==============================] - 2s 33us/step - loss: 0.0170 - val_loss: 0.0171\n",
            "Epoch 20/500\n",
            "60000/60000 [==============================] - 2s 33us/step - loss: 0.0170 - val_loss: 0.0166\n",
            "Epoch 21/500\n",
            "60000/60000 [==============================] - 2s 33us/step - loss: 0.0167 - val_loss: 0.0164\n",
            "Epoch 22/500\n",
            "60000/60000 [==============================] - 2s 33us/step - loss: 0.0162 - val_loss: 0.0161\n",
            "Epoch 23/500\n",
            "60000/60000 [==============================] - 2s 33us/step - loss: 0.0158 - val_loss: 0.0163\n",
            "Epoch 24/500\n",
            "60000/60000 [==============================] - 2s 33us/step - loss: 0.0160 - val_loss: 0.0156\n",
            "Epoch 25/500\n",
            "60000/60000 [==============================] - 2s 33us/step - loss: 0.0153 - val_loss: 0.0153\n",
            "Epoch 26/500\n",
            "60000/60000 [==============================] - 2s 32us/step - loss: 0.0153 - val_loss: 0.0151\n",
            "Epoch 27/500\n",
            "60000/60000 [==============================] - 2s 33us/step - loss: 0.0150 - val_loss: 0.0151\n",
            "Epoch 28/500\n",
            "60000/60000 [==============================] - 2s 33us/step - loss: 0.0147 - val_loss: 0.0148\n",
            "Epoch 29/500\n",
            "60000/60000 [==============================] - 2s 33us/step - loss: 0.0150 - val_loss: 0.0147\n",
            "Epoch 30/500\n",
            "60000/60000 [==============================] - 2s 33us/step - loss: 0.0144 - val_loss: 0.0148\n",
            "Epoch 31/500\n",
            "60000/60000 [==============================] - 2s 33us/step - loss: 0.0143 - val_loss: 0.0144\n",
            "Epoch 32/500\n",
            "60000/60000 [==============================] - 2s 34us/step - loss: 0.0143 - val_loss: 0.0145\n",
            "Epoch 33/500\n",
            "60000/60000 [==============================] - 2s 33us/step - loss: 0.0141 - val_loss: 0.0146\n",
            "Epoch 34/500\n",
            "60000/60000 [==============================] - 2s 33us/step - loss: 0.0143 - val_loss: 0.0141\n",
            "Epoch 35/500\n",
            "60000/60000 [==============================] - 2s 33us/step - loss: 0.0139 - val_loss: 0.0142\n",
            "Epoch 36/500\n",
            "60000/60000 [==============================] - 2s 32us/step - loss: 0.0139 - val_loss: 0.0147\n",
            "Epoch 37/500\n",
            "60000/60000 [==============================] - 2s 33us/step - loss: 0.0138 - val_loss: 0.0139\n",
            "Epoch 38/500\n",
            "60000/60000 [==============================] - 2s 33us/step - loss: 0.0137 - val_loss: 0.0139\n",
            "Epoch 39/500\n",
            "60000/60000 [==============================] - 2s 33us/step - loss: 0.0136 - val_loss: 0.0138\n",
            "Epoch 40/500\n",
            "60000/60000 [==============================] - 2s 33us/step - loss: 0.0136 - val_loss: 0.0140\n",
            "Epoch 41/500\n",
            "60000/60000 [==============================] - 2s 33us/step - loss: 0.0135 - val_loss: 0.0137\n",
            "Epoch 42/500\n",
            "60000/60000 [==============================] - 2s 33us/step - loss: 0.0134 - val_loss: 0.0141\n",
            "Epoch 43/500\n",
            "60000/60000 [==============================] - 2s 32us/step - loss: 0.0134 - val_loss: 0.0137\n",
            "Epoch 44/500\n",
            "60000/60000 [==============================] - 2s 33us/step - loss: 0.0132 - val_loss: 0.0135\n",
            "Epoch 45/500\n",
            "60000/60000 [==============================] - 2s 32us/step - loss: 0.0132 - val_loss: 0.0137\n",
            "Epoch 46/500\n",
            "60000/60000 [==============================] - 2s 33us/step - loss: 0.0131 - val_loss: 0.0135\n",
            "Epoch 47/500\n",
            "60000/60000 [==============================] - 2s 33us/step - loss: 0.0131 - val_loss: 0.0134\n",
            "Epoch 48/500\n",
            "60000/60000 [==============================] - 2s 33us/step - loss: 0.0130 - val_loss: 0.0133\n",
            "Epoch 49/500\n",
            "60000/60000 [==============================] - 2s 33us/step - loss: 0.0130 - val_loss: 0.0132\n",
            "Epoch 50/500\n",
            "60000/60000 [==============================] - 2s 33us/step - loss: 0.0129 - val_loss: 0.0133\n",
            "Epoch 51/500\n",
            "60000/60000 [==============================] - 2s 32us/step - loss: 0.0130 - val_loss: 0.0134\n",
            "Epoch 52/500\n",
            "60000/60000 [==============================] - 2s 32us/step - loss: 0.0128 - val_loss: 0.0132\n",
            "Epoch 53/500\n",
            "60000/60000 [==============================] - 2s 32us/step - loss: 0.0127 - val_loss: 0.0130\n",
            "Epoch 54/500\n",
            "60000/60000 [==============================] - 2s 32us/step - loss: 0.0128 - val_loss: 0.0134\n",
            "Epoch 55/500\n",
            "60000/60000 [==============================] - 2s 33us/step - loss: 0.0126 - val_loss: 0.0129\n",
            "Epoch 56/500\n",
            "60000/60000 [==============================] - 2s 33us/step - loss: 0.0126 - val_loss: 0.0131\n",
            "Epoch 57/500\n",
            "60000/60000 [==============================] - 2s 32us/step - loss: 0.0126 - val_loss: 0.0132\n",
            "Epoch 58/500\n",
            "60000/60000 [==============================] - 2s 33us/step - loss: 0.0127 - val_loss: 0.0128\n",
            "Epoch 59/500\n",
            "60000/60000 [==============================] - 2s 33us/step - loss: 0.0123 - val_loss: 0.0127\n",
            "Epoch 60/500\n",
            "60000/60000 [==============================] - 2s 33us/step - loss: 0.0124 - val_loss: 0.0129\n",
            "Epoch 61/500\n",
            "60000/60000 [==============================] - 2s 33us/step - loss: 0.0123 - val_loss: 0.0127\n",
            "Epoch 62/500\n",
            "60000/60000 [==============================] - 2s 33us/step - loss: 0.0123 - val_loss: 0.0131\n",
            "Epoch 63/500\n",
            "60000/60000 [==============================] - 2s 33us/step - loss: 0.0123 - val_loss: 0.0127\n",
            "Epoch 64/500\n",
            "60000/60000 [==============================] - 2s 33us/step - loss: 0.0124 - val_loss: 0.0128\n",
            "Epoch 65/500\n",
            "60000/60000 [==============================] - 2s 33us/step - loss: 0.0121 - val_loss: 0.0126\n",
            "Epoch 66/500\n",
            "60000/60000 [==============================] - 2s 33us/step - loss: 0.0121 - val_loss: 0.0127\n",
            "Epoch 67/500\n",
            "60000/60000 [==============================] - 2s 33us/step - loss: 0.0122 - val_loss: 0.0126\n",
            "Epoch 68/500\n",
            "60000/60000 [==============================] - 2s 33us/step - loss: 0.0120 - val_loss: 0.0125\n",
            "Epoch 69/500\n",
            "60000/60000 [==============================] - 2s 32us/step - loss: 0.0120 - val_loss: 0.0125\n",
            "Epoch 70/500\n",
            "60000/60000 [==============================] - 2s 33us/step - loss: 0.0120 - val_loss: 0.0124\n",
            "Epoch 71/500\n",
            "60000/60000 [==============================] - 2s 33us/step - loss: 0.0121 - val_loss: 0.0129\n",
            "Epoch 72/500\n",
            "60000/60000 [==============================] - 2s 33us/step - loss: 0.0119 - val_loss: 0.0123\n",
            "Epoch 73/500\n",
            "60000/60000 [==============================] - 2s 33us/step - loss: 0.0118 - val_loss: 0.0123\n",
            "Epoch 74/500\n",
            "60000/60000 [==============================] - 2s 33us/step - loss: 0.0118 - val_loss: 0.0133\n",
            "Epoch 75/500\n",
            "60000/60000 [==============================] - 2s 33us/step - loss: 0.0120 - val_loss: 0.0122\n",
            "Epoch 76/500\n",
            "60000/60000 [==============================] - 2s 33us/step - loss: 0.0117 - val_loss: 0.0124\n",
            "Epoch 77/500\n",
            "60000/60000 [==============================] - 2s 32us/step - loss: 0.0118 - val_loss: 0.0123\n",
            "Epoch 78/500\n",
            "60000/60000 [==============================] - 2s 33us/step - loss: 0.0116 - val_loss: 0.0122\n",
            "Epoch 79/500\n",
            "60000/60000 [==============================] - 2s 32us/step - loss: 0.0117 - val_loss: 0.0122\n",
            "Epoch 80/500\n",
            "60000/60000 [==============================] - 2s 33us/step - loss: 0.0116 - val_loss: 0.0121\n",
            "Epoch 81/500\n",
            "60000/60000 [==============================] - 2s 33us/step - loss: 0.0118 - val_loss: 0.0122\n",
            "Epoch 82/500\n",
            "60000/60000 [==============================] - 2s 34us/step - loss: 0.0116 - val_loss: 0.0121\n",
            "Epoch 83/500\n",
            "60000/60000 [==============================] - 2s 33us/step - loss: 0.0116 - val_loss: 0.0121\n",
            "Epoch 84/500\n",
            "60000/60000 [==============================] - 2s 33us/step - loss: 0.0115 - val_loss: 0.0123\n",
            "Epoch 85/500\n",
            "60000/60000 [==============================] - 2s 33us/step - loss: 0.0116 - val_loss: 0.0120\n",
            "Epoch 86/500\n",
            "60000/60000 [==============================] - 2s 33us/step - loss: 0.0114 - val_loss: 0.0121\n",
            "Epoch 87/500\n",
            "60000/60000 [==============================] - 2s 33us/step - loss: 0.0115 - val_loss: 0.0123\n",
            "Epoch 88/500\n",
            "60000/60000 [==============================] - 2s 33us/step - loss: 0.0114 - val_loss: 0.0121\n",
            "Epoch 89/500\n",
            "60000/60000 [==============================] - 2s 33us/step - loss: 0.0114 - val_loss: 0.0121\n",
            "Epoch 90/500\n",
            "60000/60000 [==============================] - 2s 33us/step - loss: 0.0113 - val_loss: 0.0120\n",
            "Epoch 91/500\n",
            "60000/60000 [==============================] - 2s 33us/step - loss: 0.0114 - val_loss: 0.0120\n",
            "Epoch 92/500\n",
            "60000/60000 [==============================] - 2s 33us/step - loss: 0.0113 - val_loss: 0.0121\n",
            "Epoch 93/500\n",
            "60000/60000 [==============================] - 2s 33us/step - loss: 0.0113 - val_loss: 0.0120\n",
            "Epoch 94/500\n",
            "60000/60000 [==============================] - 2s 33us/step - loss: 0.0113 - val_loss: 0.0121\n",
            "Epoch 95/500\n",
            "60000/60000 [==============================] - 2s 33us/step - loss: 0.0114 - val_loss: 0.0119\n",
            "Epoch 96/500\n",
            "60000/60000 [==============================] - 2s 33us/step - loss: 0.0112 - val_loss: 0.0118\n",
            "Epoch 97/500\n",
            "60000/60000 [==============================] - 2s 33us/step - loss: 0.0113 - val_loss: 0.0119\n",
            "Epoch 98/500\n",
            "60000/60000 [==============================] - 2s 33us/step - loss: 0.0112 - val_loss: 0.0118\n",
            "Epoch 99/500\n",
            "60000/60000 [==============================] - 2s 33us/step - loss: 0.0111 - val_loss: 0.0119\n",
            "Epoch 100/500\n",
            "60000/60000 [==============================] - 2s 33us/step - loss: 0.0113 - val_loss: 0.0118\n",
            "Epoch 101/500\n",
            "60000/60000 [==============================] - 2s 33us/step - loss: 0.0111 - val_loss: 0.0118\n",
            "Epoch 102/500\n",
            "60000/60000 [==============================] - 2s 33us/step - loss: 0.0111 - val_loss: 0.0120\n",
            "Epoch 103/500\n",
            "60000/60000 [==============================] - 2s 33us/step - loss: 0.0111 - val_loss: 0.0123\n",
            "Epoch 104/500\n",
            "60000/60000 [==============================] - 2s 33us/step - loss: 0.0112 - val_loss: 0.0118\n",
            "Epoch 105/500\n",
            "60000/60000 [==============================] - 2s 33us/step - loss: 0.0110 - val_loss: 0.0118\n",
            "Epoch 106/500\n",
            "60000/60000 [==============================] - 2s 33us/step - loss: 0.0111 - val_loss: 0.0118\n",
            "Epoch 107/500\n",
            "60000/60000 [==============================] - 2s 33us/step - loss: 0.0110 - val_loss: 0.0119\n",
            "Epoch 108/500\n",
            "60000/60000 [==============================] - 2s 33us/step - loss: 0.0111 - val_loss: 0.0118\n",
            "Epoch 109/500\n",
            "60000/60000 [==============================] - 2s 33us/step - loss: 0.0109 - val_loss: 0.0117\n",
            "Epoch 110/500\n",
            "60000/60000 [==============================] - 2s 32us/step - loss: 0.0110 - val_loss: 0.0117\n",
            "Epoch 111/500\n",
            "60000/60000 [==============================] - 2s 33us/step - loss: 0.0110 - val_loss: 0.0117\n",
            "Epoch 112/500\n",
            "60000/60000 [==============================] - 2s 33us/step - loss: 0.0108 - val_loss: 0.0119\n",
            "Epoch 113/500\n",
            "60000/60000 [==============================] - 2s 34us/step - loss: 0.0112 - val_loss: 0.0117\n",
            "Epoch 114/500\n",
            "60000/60000 [==============================] - 2s 33us/step - loss: 0.0108 - val_loss: 0.0118\n",
            "Epoch 115/500\n",
            "60000/60000 [==============================] - 2s 32us/step - loss: 0.0109 - val_loss: 0.0116\n",
            "Epoch 116/500\n",
            "60000/60000 [==============================] - 2s 33us/step - loss: 0.0108 - val_loss: 0.0120\n",
            "Epoch 117/500\n",
            "60000/60000 [==============================] - 2s 33us/step - loss: 0.0109 - val_loss: 0.0117\n",
            "Epoch 118/500\n",
            "60000/60000 [==============================] - 2s 33us/step - loss: 0.0107 - val_loss: 0.0116\n",
            "Epoch 119/500\n",
            "60000/60000 [==============================] - 2s 33us/step - loss: 0.0108 - val_loss: 0.0117\n",
            "Epoch 120/500\n",
            "60000/60000 [==============================] - 2s 33us/step - loss: 0.0107 - val_loss: 0.0117\n",
            "Epoch 121/500\n",
            "60000/60000 [==============================] - 2s 33us/step - loss: 0.0110 - val_loss: 0.0116\n",
            "Epoch 122/500\n",
            "60000/60000 [==============================] - 2s 33us/step - loss: 0.0107 - val_loss: 0.0122\n",
            "Epoch 123/500\n",
            "60000/60000 [==============================] - 2s 33us/step - loss: 0.0108 - val_loss: 0.0116\n",
            "Epoch 124/500\n",
            "60000/60000 [==============================] - 2s 33us/step - loss: 0.0107 - val_loss: 0.0118\n",
            "Epoch 125/500\n",
            "60000/60000 [==============================] - 2s 33us/step - loss: 0.0107 - val_loss: 0.0116\n",
            "Epoch 126/500\n",
            "60000/60000 [==============================] - 2s 33us/step - loss: 0.0107 - val_loss: 0.0115\n",
            "Epoch 127/500\n",
            "60000/60000 [==============================] - 2s 33us/step - loss: 0.0109 - val_loss: 0.0118\n",
            "Epoch 128/500\n",
            "60000/60000 [==============================] - 2s 33us/step - loss: 0.0107 - val_loss: 0.0115\n",
            "Epoch 129/500\n",
            "60000/60000 [==============================] - 2s 33us/step - loss: 0.0106 - val_loss: 0.0116\n",
            "Epoch 130/500\n",
            "60000/60000 [==============================] - 2s 33us/step - loss: 0.0106 - val_loss: 0.0115\n",
            "Epoch 131/500\n",
            "60000/60000 [==============================] - 2s 33us/step - loss: 0.0107 - val_loss: 0.0117\n",
            "Epoch 132/500\n",
            "60000/60000 [==============================] - 2s 33us/step - loss: 0.0106 - val_loss: 0.0116\n",
            "Epoch 133/500\n",
            "60000/60000 [==============================] - 2s 33us/step - loss: 0.0108 - val_loss: 0.0115\n",
            "Epoch 134/500\n",
            "60000/60000 [==============================] - 2s 33us/step - loss: 0.0105 - val_loss: 0.0115\n",
            "Epoch 135/500\n",
            "60000/60000 [==============================] - 2s 33us/step - loss: 0.0107 - val_loss: 0.0118\n",
            "Epoch 136/500\n",
            "60000/60000 [==============================] - 2s 33us/step - loss: 0.0106 - val_loss: 0.0114\n",
            "Epoch 137/500\n",
            "60000/60000 [==============================] - 2s 33us/step - loss: 0.0105 - val_loss: 0.0115\n",
            "Epoch 138/500\n",
            "60000/60000 [==============================] - 2s 33us/step - loss: 0.0106 - val_loss: 0.0116\n",
            "Epoch 139/500\n",
            "60000/60000 [==============================] - 2s 33us/step - loss: 0.0105 - val_loss: 0.0115\n",
            "Epoch 140/500\n",
            "60000/60000 [==============================] - 2s 32us/step - loss: 0.0106 - val_loss: 0.0115\n",
            "Epoch 141/500\n",
            "60000/60000 [==============================] - 2s 33us/step - loss: 0.0104 - val_loss: 0.0114\n",
            "Epoch 142/500\n",
            "60000/60000 [==============================] - 2s 33us/step - loss: 0.0105 - val_loss: 0.0116\n",
            "Epoch 143/500\n",
            "60000/60000 [==============================] - 2s 33us/step - loss: 0.0105 - val_loss: 0.0115\n",
            "Epoch 144/500\n",
            "60000/60000 [==============================] - 2s 32us/step - loss: 0.0104 - val_loss: 0.0116\n",
            "Epoch 145/500\n",
            "60000/60000 [==============================] - 2s 33us/step - loss: 0.0105 - val_loss: 0.0117\n",
            "Epoch 146/500\n",
            "60000/60000 [==============================] - 2s 33us/step - loss: 0.0105 - val_loss: 0.0114\n",
            "Epoch 147/500\n",
            "60000/60000 [==============================] - 2s 33us/step - loss: 0.0103 - val_loss: 0.0114\n",
            "Epoch 148/500\n",
            "60000/60000 [==============================] - 2s 33us/step - loss: 0.0105 - val_loss: 0.0119\n",
            "Epoch 149/500\n",
            "60000/60000 [==============================] - 2s 33us/step - loss: 0.0105 - val_loss: 0.0114\n",
            "Epoch 150/500\n",
            "60000/60000 [==============================] - 2s 33us/step - loss: 0.0103 - val_loss: 0.0114\n",
            "Epoch 151/500\n",
            "60000/60000 [==============================] - 2s 33us/step - loss: 0.0105 - val_loss: 0.0114\n",
            "Epoch 152/500\n",
            "60000/60000 [==============================] - 2s 33us/step - loss: 0.0103 - val_loss: 0.0114\n",
            "Epoch 153/500\n",
            "60000/60000 [==============================] - 2s 33us/step - loss: 0.0104 - val_loss: 0.0116\n",
            "Epoch 154/500\n",
            "60000/60000 [==============================] - 2s 33us/step - loss: 0.0103 - val_loss: 0.0114\n",
            "Epoch 155/500\n",
            "60000/60000 [==============================] - 2s 33us/step - loss: 0.0103 - val_loss: 0.0114\n",
            "Epoch 156/500\n",
            "60000/60000 [==============================] - 2s 33us/step - loss: 0.0104 - val_loss: 0.0116\n",
            "Epoch 157/500\n",
            "60000/60000 [==============================] - 2s 34us/step - loss: 0.0103 - val_loss: 0.0113\n",
            "Epoch 158/500\n",
            "60000/60000 [==============================] - 2s 33us/step - loss: 0.0102 - val_loss: 0.0114\n",
            "Epoch 159/500\n",
            "60000/60000 [==============================] - 2s 33us/step - loss: 0.0104 - val_loss: 0.0114\n",
            "Epoch 160/500\n",
            "60000/60000 [==============================] - 2s 33us/step - loss: 0.0103 - val_loss: 0.0113\n",
            "Epoch 161/500\n",
            "60000/60000 [==============================] - 2s 33us/step - loss: 0.0102 - val_loss: 0.0117\n",
            "Epoch 162/500\n",
            "60000/60000 [==============================] - 2s 33us/step - loss: 0.0103 - val_loss: 0.0113\n",
            "Epoch 163/500\n",
            "60000/60000 [==============================] - 2s 33us/step - loss: 0.0103 - val_loss: 0.0113\n",
            "Epoch 164/500\n",
            "60000/60000 [==============================] - 2s 33us/step - loss: 0.0102 - val_loss: 0.0115\n",
            "Epoch 165/500\n",
            "60000/60000 [==============================] - 2s 33us/step - loss: 0.0103 - val_loss: 0.0113\n",
            "Epoch 166/500\n",
            "60000/60000 [==============================] - 2s 33us/step - loss: 0.0102 - val_loss: 0.0114\n",
            "Epoch 167/500\n",
            "60000/60000 [==============================] - 2s 33us/step - loss: 0.0102 - val_loss: 0.0113\n",
            "Epoch 168/500\n",
            "60000/60000 [==============================] - 2s 33us/step - loss: 0.0101 - val_loss: 0.0114\n",
            "Epoch 169/500\n",
            "60000/60000 [==============================] - 2s 33us/step - loss: 0.0102 - val_loss: 0.0113\n",
            "Epoch 170/500\n",
            "60000/60000 [==============================] - 2s 33us/step - loss: 0.0102 - val_loss: 0.0113\n",
            "Epoch 171/500\n",
            "60000/60000 [==============================] - 2s 32us/step - loss: 0.0101 - val_loss: 0.0114\n",
            "Epoch 172/500\n",
            "60000/60000 [==============================] - 2s 33us/step - loss: 0.0101 - val_loss: 0.0113\n",
            "Epoch 173/500\n",
            "60000/60000 [==============================] - 2s 33us/step - loss: 0.0100 - val_loss: 0.0118\n",
            "Epoch 174/500\n",
            "60000/60000 [==============================] - 2s 33us/step - loss: 0.0103 - val_loss: 0.0113\n",
            "Epoch 175/500\n",
            "60000/60000 [==============================] - 2s 32us/step - loss: 0.0101 - val_loss: 0.0114\n",
            "Epoch 176/500\n",
            "60000/60000 [==============================] - 2s 33us/step - loss: 0.0101 - val_loss: 0.0113\n",
            "Epoch 177/500\n",
            "60000/60000 [==============================] - 2s 33us/step - loss: 0.0100 - val_loss: 0.0114\n",
            "Epoch 178/500\n",
            "60000/60000 [==============================] - 2s 33us/step - loss: 0.0102 - val_loss: 0.0115\n",
            "Epoch 179/500\n",
            "60000/60000 [==============================] - 2s 33us/step - loss: 0.0101 - val_loss: 0.0112\n",
            "Epoch 180/500\n",
            "60000/60000 [==============================] - 2s 32us/step - loss: 0.0100 - val_loss: 0.0113\n",
            "Epoch 181/500\n",
            "60000/60000 [==============================] - 2s 33us/step - loss: 0.0100 - val_loss: 0.0113\n",
            "Epoch 182/500\n",
            "60000/60000 [==============================] - 2s 33us/step - loss: 0.0100 - val_loss: 0.0113\n",
            "Epoch 183/500\n",
            "60000/60000 [==============================] - 2s 33us/step - loss: 0.0101 - val_loss: 0.0115\n",
            "Epoch 184/500\n",
            "60000/60000 [==============================] - 2s 33us/step - loss: 0.0100 - val_loss: 0.0113\n",
            "Epoch 185/500\n",
            "60000/60000 [==============================] - 2s 33us/step - loss: 0.0099 - val_loss: 0.0112\n",
            "Epoch 186/500\n",
            "60000/60000 [==============================] - 2s 33us/step - loss: 0.0100 - val_loss: 0.0116\n",
            "Epoch 187/500\n",
            "60000/60000 [==============================] - 2s 33us/step - loss: 0.0100 - val_loss: 0.0113\n",
            "Epoch 188/500\n",
            "60000/60000 [==============================] - 2s 33us/step - loss: 0.0100 - val_loss: 0.0112\n",
            "Epoch 189/500\n",
            "60000/60000 [==============================] - 2s 33us/step - loss: 0.0101 - val_loss: 0.0113\n",
            "Epoch 190/500\n",
            "60000/60000 [==============================] - 2s 33us/step - loss: 0.0100 - val_loss: 0.0112\n",
            "Epoch 191/500\n",
            "60000/60000 [==============================] - 2s 33us/step - loss: 0.0099 - val_loss: 0.0113\n",
            "Epoch 192/500\n",
            "60000/60000 [==============================] - 2s 33us/step - loss: 0.0099 - val_loss: 0.0113\n",
            "Epoch 193/500\n",
            "60000/60000 [==============================] - 2s 33us/step - loss: 0.0100 - val_loss: 0.0114\n",
            "Epoch 194/500\n",
            "60000/60000 [==============================] - 2s 33us/step - loss: 0.0100 - val_loss: 0.0114\n",
            "Epoch 195/500\n",
            "60000/60000 [==============================] - 2s 33us/step - loss: 0.0099 - val_loss: 0.0112\n",
            "Epoch 00195: early stopping\n"
          ],
          "name": "stdout"
        }
      ]
    },
    {
      "metadata": {
        "id": "4kVkIyY_NdCz",
        "colab_type": "code",
        "colab": {}
      },
      "cell_type": "code",
      "source": [
        "pred = autoencoder.predict(val_x)\n"
      ],
      "execution_count": 0,
      "outputs": []
    },
    {
      "metadata": {
        "id": "lijG3CZARSOY",
        "colab_type": "code",
        "colab": {
          "base_uri": "https://localhost:8080/",
          "height": 282
        },
        "outputId": "b54ae1f8-48ce-4234-9259-1ac08a0bc761"
      },
      "cell_type": "code",
      "source": [
        "plt.imshow(pred[0].reshape(28, 28), cmap='gray')\n"
      ],
      "execution_count": 51,
      "outputs": [
        {
          "output_type": "execute_result",
          "data": {
            "text/plain": [
              "<matplotlib.image.AxesImage at 0x7f063c65dfd0>"
            ]
          },
          "metadata": {
            "tags": []
          },
          "execution_count": 51
        },
        {
          "output_type": "display_data",
          "data": {
            "image/png": "[encoded data removed]",
            "text/plain": [
              "<matplotlib.figure.Figure at 0x7f063cea2b70>"
            ]
          },
          "metadata": {
            "tags": []
          }
        }
      ]
    },
    {
      "metadata": {
        "id": "YVpXb0SDRYTT",
        "colab_type": "code",
        "colab": {
          "base_uri": "https://localhost:8080/",
          "height": 282
        },
        "outputId": "9ac28e67-c7b4-48e6-da98-348f51ff7c53"
      },
      "cell_type": "code",
      "source": [
        "plt.imshow(val_x[0].reshape(28, 28), cmap='gray')\n"
      ],
      "execution_count": 52,
      "outputs": [
        {
          "output_type": "execute_result",
          "data": {
            "text/plain": [
              "<matplotlib.image.AxesImage at 0x7f063a575710>"
            ]
          },
          "metadata": {
            "tags": []
          },
          "execution_count": 52
        },
        {
          "output_type": "display_data",
          "data": {
            "image/png": "[encoded data removed]",
            "text/plain": [
              "<matplotlib.figure.Figure at 0x7f063c642048>"
            ]
          },
          "metadata": {
            "tags": []
          }
        }
      ]
    },
    {
      "metadata": {
        "id": "P80PEnEiRduL",
        "colab_type": "code",
        "colab": {}
      },
      "cell_type": "code",
      "source": [
        ""
      ],
      "execution_count": 0,
      "outputs": []
    }
  ]
}